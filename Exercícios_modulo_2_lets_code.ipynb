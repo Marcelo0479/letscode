{
  "nbformat": 4,
  "nbformat_minor": 0,
  "metadata": {
    "colab": {
      "name": "Exercícios modulo 2 lets code",
      "provenance": [],
      "authorship_tag": "ABX9TyOcREXGVOm6D4G/rWnf7Ou3",
      "include_colab_link": true
    },
    "kernelspec": {
      "name": "python3",
      "display_name": "Python 3"
    },
    "language_info": {
      "name": "python"
    }
  },
  "cells": [
    {
      "cell_type": "markdown",
      "metadata": {
        "id": "view-in-github",
        "colab_type": "text"
      },
      "source": [
        "<a href=\"https://colab.research.google.com/github/Marcelo0479/letscode/blob/main/Exerc%C3%ADcios_modulo_2_lets_code.ipynb\" target=\"_parent\"><img src=\"https://colab.research.google.com/assets/colab-badge.svg\" alt=\"Open In Colab\"/></a>"
      ]
    },
    {
      "cell_type": "markdown",
      "source": [
        "1. Faça um programa que olhe todos os itens de uma lista e diga quantos deles\n",
        "são pares."
      ],
      "metadata": {
        "id": "TRTfjHT2hApT"
      }
    },
    {
      "cell_type": "code",
      "execution_count": null,
      "metadata": {
        "colab": {
          "base_uri": "https://localhost:8080/"
        },
        "id": "kius6uZBfhHl",
        "outputId": "309bcacb-b42a-42df-d48b-10a8636b92a3"
      },
      "outputs": [
        {
          "output_type": "execute_result",
          "data": {
            "text/plain": [
              "[1, 2, 3, 4, 5, 6, 7, 8, 9, 10, 11, 12, 13, 14, 15, 16, 17, 18, 19, 20]"
            ]
          },
          "metadata": {},
          "execution_count": 2
        }
      ],
      "source": [
        "numeros = list(range(1,21))\n",
        "numeros"
      ]
    },
    {
      "cell_type": "code",
      "source": [
        "pares = 0\n",
        "for i in numeros:\n",
        "  if i % 2 == 0:\n",
        "    pares += 1\n",
        "print(f'A lista contém {pares} números pares')"
      ],
      "metadata": {
        "colab": {
          "base_uri": "https://localhost:8080/"
        },
        "id": "VCA2iY92f6Tk",
        "outputId": "fd673bd8-0556-437a-ad24-ab25c72f75e7"
      },
      "execution_count": null,
      "outputs": [
        {
          "output_type": "stream",
          "name": "stdout",
          "text": [
            "A lista contém 10 números pares\n"
          ]
        }
      ]
    },
    {
      "cell_type": "markdown",
      "source": [
        "2. Faça um programa que peça para o usuário digitar uma palavra e imprima\n",
        "cada letra em uma linha."
      ],
      "metadata": {
        "id": "vwfORZ5JhDJU"
      }
    },
    {
      "cell_type": "code",
      "source": [
        "palavra = input(\"Digite uma palavra a: \")\n",
        "for i in palavra:\n",
        "  print(i)"
      ],
      "metadata": {
        "colab": {
          "base_uri": "https://localhost:8080/"
        },
        "id": "6joCPhDZgZnW",
        "outputId": "4f51dddd-c878-49d6-9cf8-80238ceb86a1"
      },
      "execution_count": null,
      "outputs": [
        {
          "output_type": "stream",
          "name": "stdout",
          "text": [
            "Digite uma palavra a: batata\n",
            "b\n",
            "a\n",
            "t\n",
            "a\n",
            "t\n",
            "a\n"
          ]
        }
      ]
    },
    {
      "cell_type": "markdown",
      "source": [
        "3. Faça uma função que recebe duas listas e retorna a soma item a item dessas\n",
        "listas."
      ],
      "metadata": {
        "id": "V3NKCAThhfHu"
      }
    },
    {
      "cell_type": "code",
      "source": [
        "numeros_1 = list(range(1,5))\n",
        "numeros_2 = list(range(5,9))\n",
        "print(numeros_1, numeros_2)"
      ],
      "metadata": {
        "colab": {
          "base_uri": "https://localhost:8080/"
        },
        "id": "L39cWoIMhYo4",
        "outputId": "47fe5e28-b503-4bb1-c24a-e29066f17e22"
      },
      "execution_count": null,
      "outputs": [
        {
          "output_type": "stream",
          "name": "stdout",
          "text": [
            "[1, 2, 3, 4] [5, 6, 7, 8]\n"
          ]
        }
      ]
    },
    {
      "cell_type": "code",
      "source": [
        "def soma_listas(lista_1, lista_2):\n",
        "  lista_somada = []\n",
        "  for i in range(len(lista_1)):\n",
        "    _ = lista_1[i] + lista_2[i]\n",
        "    lista_somada.append(_)\n",
        "  return print(f' {lista_1} +\\n {lista_2} = \\n {lista_somada}')"
      ],
      "metadata": {
        "id": "AvqW-Mduhv7n"
      },
      "execution_count": null,
      "outputs": []
    },
    {
      "cell_type": "code",
      "source": [
        "soma_listas(numeros_1, numeros_2)"
      ],
      "metadata": {
        "colab": {
          "base_uri": "https://localhost:8080/"
        },
        "id": "O78Pomo_ipnw",
        "outputId": "ac61b604-049e-4d6e-c538-44a888902c3c"
      },
      "execution_count": null,
      "outputs": [
        {
          "output_type": "stream",
          "name": "stdout",
          "text": [
            " [1, 2, 3, 4] +\n",
            " [5, 6, 7, 8] = \n",
            " [6, 8, 10, 12]\n"
          ]
        }
      ]
    },
    {
      "cell_type": "markdown",
      "source": [
        "4. Crie um dicionário cujas chaves são os meses do ano e os valores são a\n",
        "duração (em dias) de cada mês."
      ],
      "metadata": {
        "id": "NRwGaRCLqfJV"
      }
    },
    {
      "cell_type": "code",
      "source": [
        "dicionario_mes_quant_dias = {'Janeiro': 31, 'Fevereiro': 28, 'Março': 31, 'Abril': 30, 'Maio': 31, 'Junho': 30, 'Julho': 31, 'Agosto': 31, 'Setembro': 30, 'Outubro': 31, 'Novembro': 30, 'Dezembro': 31}\n",
        "dicionario_mes_quant_dias"
      ],
      "metadata": {
        "colab": {
          "base_uri": "https://localhost:8080/"
        },
        "id": "20CM3SKcix2e",
        "outputId": "c5d65729-f697-44e4-a898-f463e68546f1"
      },
      "execution_count": null,
      "outputs": [
        {
          "output_type": "execute_result",
          "data": {
            "text/plain": [
              "{'Abril': 30,\n",
              " 'Agosto': 31,\n",
              " 'Dezembro': 31,\n",
              " 'Fevereiro': 28,\n",
              " 'Janeiro': 31,\n",
              " 'Julho': 31,\n",
              " 'Junho': 30,\n",
              " 'Maio': 31,\n",
              " 'Março': 31,\n",
              " 'Novembro': 30,\n",
              " 'Outubro': 31,\n",
              " 'Setembro': 30}"
            ]
          },
          "metadata": {},
          "execution_count": 59
        }
      ]
    },
    {
      "cell_type": "markdown",
      "source": [
        "5. Imprima as chaves seguidas dos seus valores para dicionário criado no\n",
        "exercício anterior."
      ],
      "metadata": {
        "id": "CdN3VRCyr38_"
      }
    },
    {
      "cell_type": "code",
      "source": [
        "for key, value in dicionario_mes_quant_dias.items():\n",
        "  print(f'{key} - {value}')"
      ],
      "metadata": {
        "colab": {
          "base_uri": "https://localhost:8080/"
        },
        "id": "vRV8w-ZEjSdg",
        "outputId": "25af60a3-98f6-4e43-a50b-46842346ff20"
      },
      "execution_count": null,
      "outputs": [
        {
          "output_type": "stream",
          "name": "stdout",
          "text": [
            "Janeiro - 31\n",
            "Fevereiro - 28\n",
            "Março - 31\n",
            "Abril - 30\n",
            "Maio - 31\n",
            "Junho - 30\n",
            "Julho - 31\n",
            "Agosto - 31\n",
            "Setembro - 30\n",
            "Outubro - 31\n",
            "Novembro - 30\n",
            "Dezembro - 31\n"
          ]
        }
      ]
    },
    {
      "cell_type": "code",
      "source": [
        ""
      ],
      "metadata": {
        "id": "bk6RBmBUszU7"
      },
      "execution_count": null,
      "outputs": []
    }
  ]
}