{
  "nbformat": 4,
  "nbformat_minor": 0,
  "metadata": {
    "colab": {
      "name": "Exercícios modulo 1 lets code",
      "provenance": [],
      "authorship_tag": "ABX9TyMUvYnGpYZCKzfpTDCjbBUU",
      "include_colab_link": true
    },
    "kernelspec": {
      "name": "python3",
      "display_name": "Python 3"
    },
    "language_info": {
      "name": "python"
    }
  },
  "cells": [
    {
      "cell_type": "markdown",
      "metadata": {
        "id": "view-in-github",
        "colab_type": "text"
      },
      "source": [
        "<a href=\"https://colab.research.google.com/github/Marcelo0479/letscode/blob/main/Exerc%C3%ADcios_modulo_1_lets_code.ipynb\" target=\"_parent\"><img src=\"https://colab.research.google.com/assets/colab-badge.svg\" alt=\"Open In Colab\"/></a>"
      ]
    },
    {
      "cell_type": "markdown",
      "source": [
        "1. Faça um programa que peça um valor monetário e diminua-o em 15%. Seu\n",
        "programa deve imprimir a mensagem “O novo valor é [valor]”"
      ],
      "metadata": {
        "id": "46ZvthAutpPW"
      }
    },
    {
      "cell_type": "code",
      "execution_count": 20,
      "metadata": {
        "colab": {
          "base_uri": "https://localhost:8080/"
        },
        "id": "D7M98ls6pJ2J",
        "outputId": "1afe3290-ec10-47fe-bc6d-ed59c02b657e"
      },
      "outputs": [
        {
          "name": "stdout",
          "output_type": "stream",
          "text": [
            "Digite o valor:200\n"
          ]
        }
      ],
      "source": [
        "valor = float(input('Digite o valor:' ))"
      ]
    },
    {
      "cell_type": "code",
      "source": [
        "print(\"Percentual a ser deduzido do valor: 15%\")\n",
        "percentual = 15/100\n",
        "valor_descontado = valor - valor * percentual\n",
        "print(f'O novo valor é: {valor_descontado}')"
      ],
      "metadata": {
        "colab": {
          "base_uri": "https://localhost:8080/"
        },
        "id": "HbDSGTz3qqF6",
        "outputId": "9f45d5b8-ec99-4d8d-bcf0-465305b14f76"
      },
      "execution_count": 21,
      "outputs": [
        {
          "output_type": "stream",
          "name": "stdout",
          "text": [
            "Percentual a ser deduzido do valor: 15%\n",
            "O novo valor é: 170.0\n"
          ]
        }
      ]
    },
    {
      "cell_type": "markdown",
      "source": [
        "2. Faça um programa que leia a validade das informações:\n",
        "\n",
        "\n",
        "> a. Idade: entre 0 e 150;\n",
        "\n",
        "> b. Salário: maior que 0;\n",
        "\n",
        "> c. Sexo: M, F ou Outro;\n",
        "\n",
        "> O programa deve imprimir uma mensagem de erro para cada informação\n",
        "inválida."
      ],
      "metadata": {
        "id": "1kUK8s0MuBiW"
      }
    },
    {
      "cell_type": "code",
      "source": [
        "idade = int(input('Digite sua idade: '))\n",
        "if idade >= 0 and idade <= 150:\n",
        "  print(f'Sua idade é {idade} anos')\n",
        "else:\n",
        "  print(f'{idade} não é um valor válido')"
      ],
      "metadata": {
        "colab": {
          "base_uri": "https://localhost:8080/"
        },
        "id": "81aJbjrnsaSw",
        "outputId": "2e427189-f2ee-499e-baba-fd26c3ee4b7e"
      },
      "execution_count": 29,
      "outputs": [
        {
          "output_type": "stream",
          "name": "stdout",
          "text": [
            "Digite sua idade: 42\n",
            "Sua idade é 42 anos\n"
          ]
        }
      ]
    },
    {
      "cell_type": "code",
      "source": [
        "salario = int(input('Digite seu salário: '))\n",
        "if salario > 0:\n",
        "  print(f'Seu salário é de R${salario}')\n",
        "else:\n",
        "  print(f'R${salario} não é um valor válido')"
      ],
      "metadata": {
        "colab": {
          "base_uri": "https://localhost:8080/"
        },
        "id": "DcxX20EJuWj1",
        "outputId": "dd7d6f08-7576-4360-9d92-a6ed9282534a"
      },
      "execution_count": 32,
      "outputs": [
        {
          "output_type": "stream",
          "name": "stdout",
          "text": [
            "Digite seu salário: 2500\n",
            "Seu salário é de R$2500\n"
          ]
        }
      ]
    },
    {
      "cell_type": "code",
      "source": [
        "genero = input('Digite seu genero, m, f ou outro: ').lower()\n",
        "genero\n",
        "if genero == 'm':\n",
        "  print(f'Seu genero é masculino')\n",
        "elif genero == 'f':\n",
        "  print(f'Seu genero é feminimo')\n",
        "elif genero == 'outro':\n",
        "  print(f'Seu genero é outro')\n"
      ],
      "metadata": {
        "colab": {
          "base_uri": "https://localhost:8080/"
        },
        "id": "H5AkNyezwHDX",
        "outputId": "f0a873a4-4a36-40a6-9600-cddbbd5120e0"
      },
      "execution_count": 35,
      "outputs": [
        {
          "output_type": "stream",
          "name": "stdout",
          "text": [
            "Digite seu genero, m, f ou outro: M\n",
            "Seu genero é masculino\n"
          ]
        }
      ]
    },
    {
      "cell_type": "markdown",
      "source": [
        "3. Vamos fazer um programa para verificar quem é o assassino de um crime.\n",
        "Para descobrir o assassino, a polícia faz um pequeno questionário com 5\n",
        "perguntas onde a resposta só pode ser sim ou não:\n",
        "\n",
        "> a. Mora perto da vítima?\n",
        "\n",
        "> b. Já trabalhou com a vítima?\n",
        "\n",
        "> c. Telefonou para a vítima?\n",
        "\n",
        "> d. Esteve no local do crime?\n",
        "\n",
        "> e. Devia para a vítima?\n",
        "\n",
        "> Cada resposta sim dá um ponto para o suspeito. A polícia considera que os\n",
        "suspeitos com 5 pontos são os assassinos, com 4 a 3 pontos são cúmplices e\n",
        "2 pontos são apenas suspeitos, necessitando outras investigações. Valores\n",
        "iguais ou abaixo de 1 são liberados"
      ],
      "metadata": {
        "id": "dLAtIMV0yiOM"
      }
    },
    {
      "cell_type": "code",
      "source": [
        "pontuacao = 0\n",
        "print('Questionário polícial')\n",
        "mora_perto = input('Primeira pergunta: Você mora perto da vítima? ')\n",
        "if mora_perto == 'sim':\n",
        "  pontuacao += 1\n",
        "trabalhou_com = input('Segunda pergunta: Você já trabalhou com a vítima? ')\n",
        "if trabalhou_com == 'sim':\n",
        "  pontuacao += 1\n",
        "telefonou_recentemente = input('Terceira pergunta: Você telefonou recentemente para a vítima? ')\n",
        "if telefonou_recentemente == 'sim':\n",
        "  pontuacao += 1\n",
        "esteve_local_crime = input('Quarta pergunta: Você esteve recentemente no local do crime? ')\n",
        "if esteve_local_crime == 'sim':\n",
        "  pontuacao += 1\n",
        "devia_vitima = input('Quinta pergunta: Você devia para a vítima? ')\n",
        "if devia_vitima == 'sim':\n",
        "  pontuacao += 1\n",
        "\n",
        "if pontuacao == 5:\n",
        "  print('Você está preso por assassinato.')\n",
        "elif pontuacao == 4 or pontuacao == 3:\n",
        "  print('Você está preso por ser cúmplice em assassinato.')\n",
        "elif pontuacao == 2:\n",
        "  print('Você está dedito por ser suspeito no assassinato.')\n",
        "else:\n",
        "  print('Você está liberado.ddfa')\n",
        "\n"
      ],
      "metadata": {
        "colab": {
          "base_uri": "https://localhost:8080/"
        },
        "id": "xP94ytU2yNGO",
        "outputId": "04fb1555-71b7-41f5-9ff1-3b30923d7a8a"
      },
      "execution_count": 40,
      "outputs": [
        {
          "output_type": "stream",
          "name": "stdout",
          "text": [
            "Questionário polícial\n",
            "Primeira pergunta: Você mora perto da vítima? sim\n",
            "Segunda pergunta: Você já trabalhou com a vítima? sim\n",
            "Terceira pergunta: Você telefonou recentemente para a vítima? sim\n",
            "Quarta pergunta: Você esteve recentemente no local do crime? não\n",
            "Quinta pergunta: Você devia para a vítima? não\n",
            "Você está preso por ser cúmplice em assassinato.\n"
          ]
        }
      ]
    },
    {
      "cell_type": "markdown",
      "source": [
        "4. Faça um programa que imprima a tabuada do 9 (de 9 x 1 a 9 x 10) usando loops"
      ],
      "metadata": {
        "id": "jJXxhggy3d7e"
      }
    },
    {
      "cell_type": "code",
      "source": [
        "for i in range(1,11):\n",
        "  multplicador = i\n",
        "  i *= 9\n",
        "  print(f'9 x {multplicador} = {i}')"
      ],
      "metadata": {
        "colab": {
          "base_uri": "https://localhost:8080/"
        },
        "id": "_BCLxWUP2mb5",
        "outputId": "86107dca-b220-455e-ce29-8d4e52565689"
      },
      "execution_count": 51,
      "outputs": [
        {
          "output_type": "stream",
          "name": "stdout",
          "text": [
            "9 x 1 = 9\n",
            "9 x 2 = 18\n",
            "9 x 3 = 27\n",
            "9 x 4 = 36\n",
            "9 x 5 = 45\n",
            "9 x 6 = 54\n",
            "9 x 7 = 63\n",
            "9 x 8 = 72\n",
            "9 x 9 = 81\n",
            "9 x 10 = 90\n"
          ]
        }
      ]
    },
    {
      "cell_type": "code",
      "source": [
        ""
      ],
      "metadata": {
        "id": "9YHGcTZX3tMr"
      },
      "execution_count": null,
      "outputs": []
    }
  ]
}